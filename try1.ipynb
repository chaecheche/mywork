{
  "nbformat": 4,
  "nbformat_minor": 0,
  "metadata": {
    "colab": {
      "provenance": [],
      "include_colab_link": true
    },
    "kernelspec": {
      "name": "python3",
      "display_name": "Python 3"
    },
    "language_info": {
      "name": "python"
    }
  },
  "cells": [
    {
      "cell_type": "markdown",
      "metadata": {
        "id": "view-in-github",
        "colab_type": "text"
      },
      "source": [
        "<a href=\"https://colab.research.google.com/github/chaecheche/mywork/blob/main/try1.ipynb\" target=\"_parent\"><img src=\"https://colab.research.google.com/assets/colab-badge.svg\" alt=\"Open In Colab\"/></a>"
      ]
    },
    {
      "cell_type": "markdown",
      "source": [
        "#제반 작업"
      ],
      "metadata": {
        "id": "oLdokOLsfCQW"
      }
    },
    {
      "cell_type": "code",
      "source": [
        "# Hyperparameters\n",
        "CONFIG = {\n",
        "    'lr': 0.01,\n",
        "    'epochs': 10,\n",
        "    'min_batch': 32,\n",
        "    'weight_decay': 1e-4\n",
        "}"
      ],
      "metadata": {
        "id": "aGSnS_ruQcet"
      },
      "execution_count": null,
      "outputs": []
    },
    {
      "cell_type": "code",
      "execution_count": null,
      "metadata": {
        "id": "p84YQJ8Me-Dx"
      },
      "outputs": [],
      "source": [
        "import torch\n",
        "from torch import nn\n",
        "import numpy as np\n",
        "import tensorflow as tf\n",
        "from google.colab import drive, output\n",
        "drive.mount(\"/content/gdrive\")\n",
        "import scipy.io.wavfile as wav\n",
        "!pip install keras\n",
        "from tensorflow import keras\n",
        "import torch.optim as optim\n",
        "output.clear()"
      ]
    },
    {
      "cell_type": "code",
      "source": [
        "!pip install python_speech_features\n",
        "from torch.utils.data import Dataset, DataLoader\n",
        "import pandas as pd\n",
        "from python_speech_features import mfcc, logfbank\n",
        "import librosa\n",
        "from tqdm import tqdm\n",
        "import pickle\n",
        "import os\n",
        "from torchsummary import summary\n",
        "m_path = \"/content/gdrive/MyDrive/Audio Classification/audio_train\" #디렉토리 설정\n",
        "device = 'cuda' if torch.cuda.is_available() else 'cpu'\n",
        "output.clear()"
      ],
      "metadata": {
        "id": "F80RV0TwfBfe"
      },
      "execution_count": null,
      "outputs": []
    },
    {
      "cell_type": "code",
      "source": [
        "X_path = \"/content/gdrive/MyDrive/24w_deepdaiv/week2/X_whole.npy\"\n",
        "y_path = \"/content/gdrive/MyDrive/24w_deepdaiv/week2/y_whole.npy\"\n",
        "X_data = np.load(X_path)\n",
        "y_data = np.load(y_path)\n",
        "\n",
        "X_len = X_data.shape[0]\n",
        "train_size = 0.7\n",
        "idx = np.random.permutation(X_len)\n",
        "train_idx = idx[:round(train_size*X_len)]; test_idx = idx[round(train_size*X_len):]\n",
        "X_train = X_data[train_idx].astype(np.float32); X_test = X_data[test_idx].astype(np.float32);\n",
        "y_train = y_data[train_idx].astype(np.float32); y_test = y_data[test_idx].astype(np.float32);"
      ],
      "metadata": {
        "id": "SYhlhwFEP33m"
      },
      "execution_count": null,
      "outputs": []
    },
    {
      "cell_type": "markdown",
      "source": [
        "# 전처리"
      ],
      "metadata": {
        "id": "tqRoslR43pSk"
      }
    },
    {
      "cell_type": "code",
      "source": [
        "X_data.shape"
      ],
      "metadata": {
        "colab": {
          "base_uri": "https://localhost:8080/"
        },
        "id": "ZRZBAJAD3r83",
        "outputId": "c640b468-871f-4705-d4dc-d43beb975111"
      },
      "execution_count": null,
      "outputs": [
        {
          "output_type": "execute_result",
          "data": {
            "text/plain": [
              "(54979, 13, 49)"
            ]
          },
          "metadata": {},
          "execution_count": 25
        }
      ]
    },
    {
      "cell_type": "code",
      "source": [
        "# 정규화\n",
        "X_data_normalized = (X_data - np.mean(X_data)) / np.std(X_data)\n",
        "\n",
        "# 테스트 데이터에 대해서도 동일하게 적용\n",
        "X_test_max = X_test.max(axis=(1, 2), keepdims=True)\n",
        "X_test_min = X_test.min(axis=(1, 2), keepdims=True)\n",
        "X_test_scaled = (X_test - X_test_min) / (X_test_max - X_test_min)"
      ],
      "metadata": {
        "id": "KfaUDIXu309e"
      },
      "execution_count": null,
      "outputs": []
    },
    {
      "cell_type": "code",
      "source": [
        "# 표준화\n",
        "def standardize_data(X):\n",
        "    # 평균과 표준편차 계산\n",
        "    mean = X.mean(axis=(1, 2), keepdims=True)\n",
        "    std = X.std(axis=(1, 2), keepdims=True)\n",
        "    # 표준화 수행\n",
        "    X_standardized = (X - mean) / (std + 1e-10) # 0으로 나누는 것을 방지하기 위해 작은 값 추가\n",
        "    return X_standardized\n",
        "\n",
        "# 훈련 데이터와 테스트 데이터에 표준화 적용\n",
        "X_train_standardized = standardize_data(X_train)\n",
        "X_test_standardized = standardize_data(X_test)"
      ],
      "metadata": {
        "id": "Zy0WDJwN45Zn"
      },
      "execution_count": null,
      "outputs": []
    },
    {
      "cell_type": "code",
      "source": [
        "from sklearn.model_selection import train_test_split\n",
        "\n",
        "# 데이터 분할\n",
        "X_train, X_test, y_train, y_test = train_test_split(X_data_normalized, y_data, test_size=0.2, random_state=42)\n"
      ],
      "metadata": {
        "id": "vsXawJS-2kZZ"
      },
      "execution_count": null,
      "outputs": []
    },
    {
      "cell_type": "code",
      "source": [
        "# tensorflow keras 사용\n",
        "model = tf.keras.Sequential([\n",
        "    tf.keras.layers.Conv1D(64, kernel_size=3, activation='relu', input_shape=X_train.shape[1:]),\n",
        "    tf.keras.layers.MaxPooling1D(pool_size=2),\n",
        "    tf.keras.layers.Conv1D(128, kernel_size=3, activation='relu'),\n",
        "    tf.keras.layers.MaxPooling1D(pool_size=2),\n",
        "    tf.keras.layers.Flatten(),\n",
        "    tf.keras.layers.Dense(512, activation='relu'),\n",
        "    tf.keras.layers.Dropout(0.2),\n",
        "    tf.keras.layers.Dense(256, activation='relu'),\n",
        "    tf.keras.layers.Dropout(0.5),\n",
        "    tf.keras.layers.Dense(y_train.shape[1], activation='softmax')\n",
        "])"
      ],
      "metadata": {
        "id": "igrdHsry4h-p"
      },
      "execution_count": null,
      "outputs": []
    },
    {
      "cell_type": "code",
      "source": [
        "# 모델 컴파일\n",
        "model.compile(optimizer='adam', loss='categorical_crossentropy', metrics=['accuracy'])\n",
        "\n",
        "# 모델 학습\n",
        "history = model.fit(X_train, y_train, epochs=50, batch_size=64)"
      ],
      "metadata": {
        "colab": {
          "base_uri": "https://localhost:8080/"
        },
        "id": "XzR6_Ts84mc5",
        "outputId": "6ddf31c4-ab13-4bfe-bb79-082c5abeb6f2"
      },
      "execution_count": null,
      "outputs": [
        {
          "output_type": "stream",
          "name": "stdout",
          "text": [
            "Epoch 1/50\n",
            "688/688 [==============================] - 10s 11ms/step - loss: 1.5188 - accuracy: 0.4936\n",
            "Epoch 2/50\n",
            "688/688 [==============================] - 9s 13ms/step - loss: 1.0819 - accuracy: 0.6459\n",
            "Epoch 3/50\n",
            "688/688 [==============================] - 9s 13ms/step - loss: 0.9029 - accuracy: 0.7064\n",
            "Epoch 4/50\n",
            "688/688 [==============================] - 8s 12ms/step - loss: 0.7951 - accuracy: 0.7420\n",
            "Epoch 5/50\n",
            "688/688 [==============================] - 9s 13ms/step - loss: 0.7134 - accuracy: 0.7664\n",
            "Epoch 6/50\n",
            "688/688 [==============================] - 8s 12ms/step - loss: 0.6563 - accuracy: 0.7851\n",
            "Epoch 7/50\n",
            "688/688 [==============================] - 9s 13ms/step - loss: 0.6043 - accuracy: 0.7987\n",
            "Epoch 8/50\n",
            "688/688 [==============================] - 9s 14ms/step - loss: 0.5567 - accuracy: 0.8132\n",
            "Epoch 9/50\n",
            "688/688 [==============================] - 8s 12ms/step - loss: 0.5351 - accuracy: 0.8204\n",
            "Epoch 10/50\n",
            "688/688 [==============================] - 10s 14ms/step - loss: 0.4988 - accuracy: 0.8322\n",
            "Epoch 11/50\n",
            "688/688 [==============================] - 9s 13ms/step - loss: 0.4806 - accuracy: 0.8376\n",
            "Epoch 12/50\n",
            "688/688 [==============================] - 8s 12ms/step - loss: 0.4488 - accuracy: 0.8497\n",
            "Epoch 13/50\n",
            "688/688 [==============================] - 9s 14ms/step - loss: 0.4230 - accuracy: 0.8569\n",
            "Epoch 14/50\n",
            "688/688 [==============================] - 9s 13ms/step - loss: 0.4096 - accuracy: 0.8609\n",
            "Epoch 15/50\n",
            "688/688 [==============================] - 9s 12ms/step - loss: 0.4002 - accuracy: 0.8652\n",
            "Epoch 16/50\n",
            "688/688 [==============================] - 9s 14ms/step - loss: 0.3818 - accuracy: 0.8718\n",
            "Epoch 17/50\n",
            "688/688 [==============================] - 8s 11ms/step - loss: 0.3688 - accuracy: 0.8749\n",
            "Epoch 18/50\n",
            "688/688 [==============================] - 9s 13ms/step - loss: 0.3566 - accuracy: 0.8785\n",
            "Epoch 19/50\n",
            "688/688 [==============================] - 9s 14ms/step - loss: 0.3503 - accuracy: 0.8798\n",
            "Epoch 20/50\n",
            "688/688 [==============================] - 9s 12ms/step - loss: 0.3366 - accuracy: 0.8861\n",
            "Epoch 21/50\n",
            "688/688 [==============================] - 10s 14ms/step - loss: 0.3279 - accuracy: 0.8876\n",
            "Epoch 22/50\n",
            "688/688 [==============================] - 9s 14ms/step - loss: 0.3262 - accuracy: 0.8880\n",
            "Epoch 23/50\n",
            "688/688 [==============================] - 8s 12ms/step - loss: 0.3150 - accuracy: 0.8934\n",
            "Epoch 24/50\n",
            "688/688 [==============================] - 9s 14ms/step - loss: 0.3098 - accuracy: 0.8947\n",
            "Epoch 25/50\n",
            "688/688 [==============================] - 9s 12ms/step - loss: 0.3027 - accuracy: 0.8973\n",
            "Epoch 26/50\n",
            "688/688 [==============================] - 8s 12ms/step - loss: 0.2928 - accuracy: 0.8988\n",
            "Epoch 27/50\n",
            "688/688 [==============================] - 9s 13ms/step - loss: 0.2913 - accuracy: 0.9018\n",
            "Epoch 28/50\n",
            "688/688 [==============================] - 8s 11ms/step - loss: 0.2838 - accuracy: 0.9027\n",
            "Epoch 29/50\n",
            "688/688 [==============================] - 9s 13ms/step - loss: 0.2830 - accuracy: 0.9050\n",
            "Epoch 30/50\n",
            "688/688 [==============================] - 9s 13ms/step - loss: 0.2879 - accuracy: 0.9018\n",
            "Epoch 31/50\n",
            "688/688 [==============================] - 8s 11ms/step - loss: 0.2671 - accuracy: 0.9089\n",
            "Epoch 32/50\n",
            "688/688 [==============================] - 9s 13ms/step - loss: 0.2627 - accuracy: 0.9112\n",
            "Epoch 33/50\n",
            "688/688 [==============================] - 9s 13ms/step - loss: 0.2734 - accuracy: 0.9076\n",
            "Epoch 34/50\n",
            "688/688 [==============================] - 8s 12ms/step - loss: 0.2600 - accuracy: 0.9112\n",
            "Epoch 35/50\n",
            "688/688 [==============================] - 9s 13ms/step - loss: 0.2605 - accuracy: 0.9112\n",
            "Epoch 36/50\n",
            "688/688 [==============================] - 8s 12ms/step - loss: 0.2549 - accuracy: 0.9147\n",
            "Epoch 37/50\n",
            "688/688 [==============================] - 9s 14ms/step - loss: 0.2427 - accuracy: 0.9171\n",
            "Epoch 38/50\n",
            "688/688 [==============================] - 9s 14ms/step - loss: 0.2532 - accuracy: 0.9151\n",
            "Epoch 39/50\n",
            "688/688 [==============================] - 8s 11ms/step - loss: 0.2460 - accuracy: 0.9172\n",
            "Epoch 40/50\n",
            "688/688 [==============================] - 9s 14ms/step - loss: 0.2409 - accuracy: 0.9188\n",
            "Epoch 41/50\n",
            "688/688 [==============================] - 9s 13ms/step - loss: 0.2405 - accuracy: 0.9201\n",
            "Epoch 42/50\n",
            "688/688 [==============================] - 8s 12ms/step - loss: 0.2371 - accuracy: 0.9193\n",
            "Epoch 43/50\n",
            "688/688 [==============================] - 9s 13ms/step - loss: 0.2318 - accuracy: 0.9225\n",
            "Epoch 44/50\n",
            "688/688 [==============================] - 8s 12ms/step - loss: 0.2230 - accuracy: 0.9241\n",
            "Epoch 45/50\n",
            "688/688 [==============================] - 9s 13ms/step - loss: 0.2331 - accuracy: 0.9228\n",
            "Epoch 46/50\n",
            "688/688 [==============================] - 9s 13ms/step - loss: 0.2289 - accuracy: 0.9254\n",
            "Epoch 47/50\n",
            "688/688 [==============================] - 8s 12ms/step - loss: 0.2215 - accuracy: 0.9251\n",
            "Epoch 48/50\n",
            "688/688 [==============================] - 9s 13ms/step - loss: 0.2216 - accuracy: 0.9260\n",
            "Epoch 49/50\n",
            "688/688 [==============================] - 9s 13ms/step - loss: 0.2172 - accuracy: 0.9277\n",
            "Epoch 50/50\n",
            "688/688 [==============================] - 8s 12ms/step - loss: 0.2095 - accuracy: 0.9289\n"
          ]
        }
      ]
    },
    {
      "cell_type": "code",
      "source": [
        "import matplotlib.pyplot as plt\n",
        "\n",
        "\n",
        "def plot_history(history):\n",
        "    plt.figure(figsize=(16, 6))\n",
        "    plt.subplot(1, 2, 1)\n",
        "    plt.plot(history.history['loss'])\n",
        "    plt.title(\"Train Loss\")\n",
        "    plt.xlabel('Epochs')\n",
        "    plt.ylabel('Loss')\n",
        "    plt.subplot(1, 2, 2)\n",
        "    plt.plot(history.history['accuracy'])\n",
        "    plt.title(\"Train Acc.\")\n",
        "    plt.xlabel('Epochs')\n",
        "    plt.ylabel('Accuracy')\n",
        "    plt.show()\n",
        "\n",
        "plot_history(history)"
      ],
      "metadata": {
        "colab": {
          "base_uri": "https://localhost:8080/",
          "height": 365
        },
        "id": "rXQETogd4uZI",
        "outputId": "8deb0fd2-6529-4ec9-fae3-723d0adc7c31"
      },
      "execution_count": null,
      "outputs": [
        {
          "output_type": "display_data",
          "data": {
            "text/plain": [
              "<Figure size 1600x600 with 2 Axes>"
            ],
            "image/png": "[encoded data removed]"
          },
          "metadata": {}
        }
      ]
    },
    {
      "cell_type": "code",
      "source": [
        "model.evaluate(X_test, y_test, batch_size=64)"
      ],
      "metadata": {
        "colab": {
          "base_uri": "https://localhost:8080/"
        },
        "id": "dzac_XhC643i",
        "outputId": "aed6edbc-3d52-432b-9dbf-61bbf31bcbb0"
      },
      "execution_count": null,
      "outputs": [
        {
          "output_type": "stream",
          "name": "stdout",
          "text": [
            "172/172 [==============================] - 2s 7ms/step - loss: 0.5785 - accuracy: 0.8823\n"
          ]
        },
        {
          "output_type": "execute_result",
          "data": {
            "text/plain": [
              "[0.5784502029418945, 0.8823208212852478]"
            ]
          },
          "metadata": {},
          "execution_count": 32
        }
      ]
    },
    {
      "cell_type": "markdown",
      "metadata": {
        "id": "Gvx8pgyWfV8W"
      },
      "source": [
        "#모델 평가 (Keras)"
      ]
    },
    {
      "cell_type": "code",
      "source": [
        "os.getcwd()"
      ],
      "metadata": {
        "colab": {
          "base_uri": "https://localhost:8080/",
          "height": 35
        },
        "id": "Wthg1Ow1dV2v",
        "outputId": "cbc6fe4d-d278-4785-da50-0896d553cb14"
      },
      "execution_count": null,
      "outputs": [
        {
          "output_type": "execute_result",
          "data": {
            "text/plain": [
              "'/content'"
            ],
            "application/vnd.google.colaboratory.intrinsic+json": {
              "type": "string"
            }
          },
          "metadata": {},
          "execution_count": 35
        }
      ]
    },
    {
      "cell_type": "code",
      "source": [
        "model.save(\"model.h5\")\n"
      ],
      "metadata": {
        "colab": {
          "base_uri": "https://localhost:8080/"
        },
        "id": "Xf1uHHZGfIUm",
        "outputId": "93a03da2-ef68-4979-9884-0929550903fc"
      },
      "execution_count": null,
      "outputs": [
        {
          "output_type": "stream",
          "name": "stderr",
          "text": [
            "/usr/local/lib/python3.10/dist-packages/keras/src/engine/training.py:3103: UserWarning: You are saving your model as an HDF5 file via `model.save()`. This file format is considered legacy. We recommend using instead the native Keras format, e.g. `model.save('my_model.keras')`.\n",
            "  saving_api.save_model(\n"
          ]
        }
      ]
    },
    {
      "cell_type": "code",
      "execution_count": null,
      "metadata": {
        "id": "BaANSviHfYK6"
      },
      "outputs": [],
      "source": [
        "#학습했던 모델들 불러오기\n",
        "orig_model = keras.models.load_model(\"model.h5\")"
      ]
    },
    {
      "cell_type": "code",
      "execution_count": null,
      "metadata": {
        "colab": {
          "base_uri": "https://localhost:8080/"
        },
        "id": "DFgfAvgVfYIX",
        "outputId": "147f97a2-e093-433c-c9ce-04aff7fc0aa7"
      },
      "outputs": [
        {
          "output_type": "stream",
          "name": "stdout",
          "text": [
            "344/344 [==============================] - 1s 4ms/step\n",
            "The categorical crossentropy loss of the original model is : 0.54989916\n"
          ]
        }
      ],
      "source": [
        "#원본 데이터로 학습한 모델을 실험 데이터로 평가\n",
        "orig_pred = orig_model.predict(X_test)\n",
        "cce = tf.keras.losses.CategoricalCrossentropy()\n",
        "print(\"The categorical crossentropy loss of the original model is :\",  cce(y_test, orig_pred).numpy())"
      ]
    },
    {
      "cell_type": "code",
      "execution_count": null,
      "metadata": {
        "id": "GkJgblpBfXqc"
      },
      "outputs": [],
      "source": [
        "#0.5초의 데이터에 대해서 한번의 예측을 하는 코드 작성\n",
        "classes = [\"Acoustic_guitar\", \"Bass_drum\", \"Cello\", \"Clarinet\",\n",
        "           \"Double_bass\", \"Snare_drum\", \"Electric_piano\", \"Flute\",\n",
        "           \"Harmonica\", \"Hi-hat\", \"Oboe\", \"Saxophone\", \"Trumpet\", \"Violin_or_fiddle\"] #분류의 대상인 14개 클래스\n",
        "\n",
        "\n",
        "def evaluate_once(model):\n",
        "  step = int(44100 * 0.5)\n",
        "  rand_class = np.random.choice(classes)\n",
        "  dirname = str(np.random.choice(df[df.label == rand_class][\"fname\"]))\n",
        "  y, sr = librosa.load(\"/content/gdrive/MyDrive/Audio Classification/audio_train/\"+dirname, sr = 44100)\n",
        "\n",
        "  label = df.loc[df[\"fname\"] == dirname, \"label\"].item()\n",
        "\n",
        "  start_idx = np.random.randint(0, (y.shape[0] - step))\n",
        "  sample = y[start_idx:start_idx + step]\n",
        "  X_sample = mfcc(sample, sr, numcep = 13, nfilt = 26, nfft = 1103).T\n",
        "  X_sample = np.array([X_sample]) #차원을 (1, 13, 17)로 만들기 위함\n",
        "  pred = model.predict(X_sample)\n",
        "\n",
        "  ans = np.argmax(pred)  #argmax는 1d array에서 가장 큰 값의 순서 인덱스를 반환한다. ex) np.argmax([1, 5, 2]) = 1\n",
        "  #softmax를 출력층에 활용하는 모델이기에 predict 시 10개의 라벨들 중 특정 라벨에 속할 확률을 모델링한다. 그들 중 가장 확률이 높은 값을 결과로 출력하기 위해 argmax를 수행한다.\n",
        "  pred_label = classes[ans] #pred_label은 classes라는 list객체 내에 있는 라벨 문자열, 즉 예측된 악기명을 의미한다.\n",
        "\n",
        "  print(\"predictions: \", pred_label, \"real value: \", label)\n",
        "  return Audio(data = sample, rate = sr)"
      ]
    },
    {
      "cell_type": "code",
      "execution_count": null,
      "metadata": {
        "colab": {
          "base_uri": "https://localhost:8080/",
          "height": 276
        },
        "id": "h5DyC6u0ic8O",
        "outputId": "0804ae11-4d5a-464a-f4c7-64bffc71d97d"
      },
      "outputs": [
        {
          "output_type": "error",
          "ename": "NameError",
          "evalue": "name 'df' is not defined",
          "traceback": [
            "\u001b[0;31m---------------------------------------------------------------------------\u001b[0m",
            "\u001b[0;31mNameError\u001b[0m                                 Traceback (most recent call last)",
            "\u001b[0;32m<ipython-input-44-a008ea34a6a7>\u001b[0m in \u001b[0;36m<cell line: 1>\u001b[0;34m()\u001b[0m\n\u001b[0;32m----> 1\u001b[0;31m \u001b[0mevaluate_once\u001b[0m\u001b[0;34m(\u001b[0m\u001b[0morig_model\u001b[0m\u001b[0;34m)\u001b[0m\u001b[0;34m\u001b[0m\u001b[0;34m\u001b[0m\u001b[0m\n\u001b[0m",
            "\u001b[0;32m<ipython-input-40-7d6e9254fecb>\u001b[0m in \u001b[0;36mevaluate_once\u001b[0;34m(model)\u001b[0m\n\u001b[1;32m      8\u001b[0m   \u001b[0mstep\u001b[0m \u001b[0;34m=\u001b[0m \u001b[0mint\u001b[0m\u001b[0;34m(\u001b[0m\u001b[0;36m44100\u001b[0m \u001b[0;34m*\u001b[0m \u001b[0;36m0.5\u001b[0m\u001b[0;34m)\u001b[0m\u001b[0;34m\u001b[0m\u001b[0;34m\u001b[0m\u001b[0m\n\u001b[1;32m      9\u001b[0m   \u001b[0mrand_class\u001b[0m \u001b[0;34m=\u001b[0m \u001b[0mnp\u001b[0m\u001b[0;34m.\u001b[0m\u001b[0mrandom\u001b[0m\u001b[0;34m.\u001b[0m\u001b[0mchoice\u001b[0m\u001b[0;34m(\u001b[0m\u001b[0mclasses\u001b[0m\u001b[0;34m)\u001b[0m\u001b[0;34m\u001b[0m\u001b[0;34m\u001b[0m\u001b[0m\n\u001b[0;32m---> 10\u001b[0;31m   \u001b[0mdirname\u001b[0m \u001b[0;34m=\u001b[0m \u001b[0mstr\u001b[0m\u001b[0;34m(\u001b[0m\u001b[0mnp\u001b[0m\u001b[0;34m.\u001b[0m\u001b[0mrandom\u001b[0m\u001b[0;34m.\u001b[0m\u001b[0mchoice\u001b[0m\u001b[0;34m(\u001b[0m\u001b[0mdf\u001b[0m\u001b[0;34m[\u001b[0m\u001b[0mdf\u001b[0m\u001b[0;34m.\u001b[0m\u001b[0mlabel\u001b[0m \u001b[0;34m==\u001b[0m \u001b[0mrand_class\u001b[0m\u001b[0;34m]\u001b[0m\u001b[0;34m[\u001b[0m\u001b[0;34m\"fname\"\u001b[0m\u001b[0;34m]\u001b[0m\u001b[0;34m)\u001b[0m\u001b[0;34m)\u001b[0m\u001b[0;34m\u001b[0m\u001b[0;34m\u001b[0m\u001b[0m\n\u001b[0m\u001b[1;32m     11\u001b[0m   \u001b[0my\u001b[0m\u001b[0;34m,\u001b[0m \u001b[0msr\u001b[0m \u001b[0;34m=\u001b[0m \u001b[0mlibrosa\u001b[0m\u001b[0;34m.\u001b[0m\u001b[0mload\u001b[0m\u001b[0;34m(\u001b[0m\u001b[0;34m\"/content/gdrive/MyDrive/Audio Classification/audio_train/\"\u001b[0m\u001b[0;34m+\u001b[0m\u001b[0mdirname\u001b[0m\u001b[0;34m,\u001b[0m \u001b[0msr\u001b[0m \u001b[0;34m=\u001b[0m \u001b[0;36m44100\u001b[0m\u001b[0;34m)\u001b[0m\u001b[0;34m\u001b[0m\u001b[0;34m\u001b[0m\u001b[0m\n\u001b[1;32m     12\u001b[0m \u001b[0;34m\u001b[0m\u001b[0m\n",
            "\u001b[0;31mNameError\u001b[0m: name 'df' is not defined"
          ]
        }
      ],
      "source": [
        "evaluate_once(orig_model)"
      ]
    }
  ]
}